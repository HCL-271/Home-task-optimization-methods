{
 "cells": [
  {
   "cell_type": "code",
   "execution_count": 1,
   "metadata": {},
   "outputs": [],
   "source": [
    "from scipy.stats import norm, chi2_contingency\n",
    "import statsmodels.api as sm\n",
    "import numpy as np"
   ]
  },
  {
   "cell_type": "code",
   "execution_count": null,
   "metadata": {},
   "outputs": [],
   "source": [
    "\"\"\"\n",
    "Данные о смертности после аварий\n",
    "для тех кто пристегнул ремень и тех, кто не пристегнул\n",
    "\"\"\"\n",
    "                выжило погибло\n",
    "Не пристёгнуты     1781   135\n",
    "Пристёгнуты     1443       47\n"
   ]
  },
  {
   "cell_type": "code",
   "execution_count": 3,
   "metadata": {},
   "outputs": [
    {
     "name": "stdout",
     "output_type": "stream",
     "text": [
      "['5.288388269523', '0.000000123399']\n"
     ]
    }
   ],
   "source": [
    "s1 = 135\n",
    "n1 = 1781 #A-statistic\n",
    "s2 = 47\n",
    "n2 = 1443 #B-statistic\n",
    "p1 = s1/n1 #Вероятность успеха в выборке А\n",
    "p2 = s2/n2 #Вероятность успеха в выборке В\n",
    "p = (s1+s2)/(n1+n2)#Вероятность успеха в выборке A+В\n",
    "z = (p2-p1)/((p*(1-p) *((1/n1)+(1/n2)))**0.5) #z метка\n",
    "p_value = norm.cdf(z)\n",
    "print(['{:.12f}'.format(a) for a in (abs(z), p_value*2)]) "
   ]
  },
  {
   "cell_type": "code",
   "execution_count": 7,
   "metadata": {},
   "outputs": [
    {
     "name": "stdout",
     "output_type": "stream",
     "text": [
      "['5.288388269523', '0.000000123399']\n"
     ]
    }
   ],
   "source": [
    "z1, p_value1 = sm.stats.proportions_ztest([s1,s2], [n1,n2])\n",
    "#з-метка и р-значение\n",
    "print(['{:.12f}'.format(a) for a in (z1, p_value1)]) "
   ]
  },
  {
   "cell_type": "code",
   "execution_count": 9,
   "metadata": {},
   "outputs": [
    {
     "name": "stdout",
     "output_type": "stream",
     "text": [
      "['5.288388269523', '0.000000123399']\n"
     ]
    }
   ],
   "source": [
    "arr = np.array([[s1,n1-s1], [s2,n2-s2]])\n",
    "chi2, p_value3, dof, exp = chi2_contingency(arr, correction = False)\n",
    "print(['{:.12f}'.format(d) for d in (chi2**0.5, p_value3)])\n",
    "#Последний вариант - тест Фишера, а"
   ]
  },
  {
   "cell_type": "code",
   "execution_count": null,
   "metadata": {},
   "outputs": [],
   "source": []
  }
 ],
 "metadata": {
  "kernelspec": {
   "display_name": "Python 3",
   "language": "python",
   "name": "python3"
  },
  "language_info": {
   "codemirror_mode": {
    "name": "ipython",
    "version": 3
   },
   "file_extension": ".py",
   "mimetype": "text/x-python",
   "name": "python",
   "nbconvert_exporter": "python",
   "pygments_lexer": "ipython3",
   "version": "3.8.3"
  }
 },
 "nbformat": 4,
 "nbformat_minor": 4
}
